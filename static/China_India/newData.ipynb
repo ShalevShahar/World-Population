{
 "cells": [
  {
   "cell_type": "code",
   "execution_count": 45,
   "metadata": {},
   "outputs": [],
   "source": [
    "import pandas as pd\n",
    "import numpy as np"
   ]
  },
  {
   "cell_type": "code",
   "execution_count": 46,
   "metadata": {},
   "outputs": [
    {
     "output_type": "execute_result",
     "data": {
      "text/plain": "        LocID     Location  VarID      Variant  Time  MidPeriod    PopMale  \\\n0           4  Afghanistan      2       Medium  1950     1950.5   4099.243   \n1           4  Afghanistan      2       Medium  1951     1951.5   4134.756   \n2           4  Afghanistan      2       Medium  1952     1952.5   4174.450   \n3           4  Afghanistan      2       Medium  1953     1953.5   4218.336   \n4           4  Afghanistan      2       Medium  1954     1954.5   4266.484   \n...       ...          ...    ...          ...   ...        ...        ...   \n280927    716     Zimbabwe    207  Lower 95 PI  2080     2080.5  10576.533   \n280928    716     Zimbabwe    207  Lower 95 PI  2085     2085.5  10293.349   \n280929    716     Zimbabwe    207  Lower 95 PI  2090     2090.5   9920.336   \n280930    716     Zimbabwe    207  Lower 95 PI  2095     2095.5   9503.711   \n280931    716     Zimbabwe    207  Lower 95 PI  2100     2100.5   9090.075   \n\n        PopFemale   PopTotal  PopDensity  \n0        3652.874   7752.117      11.874  \n1        3705.395   7840.151      12.009  \n2        3761.546   7935.996      12.156  \n3        3821.348   8039.684      12.315  \n4        3884.832   8151.316      12.486  \n...           ...        ...         ...  \n280927  11255.983  21836.893      56.448  \n280928  11050.875  21355.988      55.205  \n280929  10767.709  20689.956      53.483  \n280930  10412.184  19892.080      51.421  \n280931   9996.105  19061.177      49.273  \n\n[280932 rows x 10 columns]",
      "text/html": "<div>\n<style scoped>\n    .dataframe tbody tr th:only-of-type {\n        vertical-align: middle;\n    }\n\n    .dataframe tbody tr th {\n        vertical-align: top;\n    }\n\n    .dataframe thead th {\n        text-align: right;\n    }\n</style>\n<table border=\"1\" class=\"dataframe\">\n  <thead>\n    <tr style=\"text-align: right;\">\n      <th></th>\n      <th>LocID</th>\n      <th>Location</th>\n      <th>VarID</th>\n      <th>Variant</th>\n      <th>Time</th>\n      <th>MidPeriod</th>\n      <th>PopMale</th>\n      <th>PopFemale</th>\n      <th>PopTotal</th>\n      <th>PopDensity</th>\n    </tr>\n  </thead>\n  <tbody>\n    <tr>\n      <th>0</th>\n      <td>4</td>\n      <td>Afghanistan</td>\n      <td>2</td>\n      <td>Medium</td>\n      <td>1950</td>\n      <td>1950.5</td>\n      <td>4099.243</td>\n      <td>3652.874</td>\n      <td>7752.117</td>\n      <td>11.874</td>\n    </tr>\n    <tr>\n      <th>1</th>\n      <td>4</td>\n      <td>Afghanistan</td>\n      <td>2</td>\n      <td>Medium</td>\n      <td>1951</td>\n      <td>1951.5</td>\n      <td>4134.756</td>\n      <td>3705.395</td>\n      <td>7840.151</td>\n      <td>12.009</td>\n    </tr>\n    <tr>\n      <th>2</th>\n      <td>4</td>\n      <td>Afghanistan</td>\n      <td>2</td>\n      <td>Medium</td>\n      <td>1952</td>\n      <td>1952.5</td>\n      <td>4174.450</td>\n      <td>3761.546</td>\n      <td>7935.996</td>\n      <td>12.156</td>\n    </tr>\n    <tr>\n      <th>3</th>\n      <td>4</td>\n      <td>Afghanistan</td>\n      <td>2</td>\n      <td>Medium</td>\n      <td>1953</td>\n      <td>1953.5</td>\n      <td>4218.336</td>\n      <td>3821.348</td>\n      <td>8039.684</td>\n      <td>12.315</td>\n    </tr>\n    <tr>\n      <th>4</th>\n      <td>4</td>\n      <td>Afghanistan</td>\n      <td>2</td>\n      <td>Medium</td>\n      <td>1954</td>\n      <td>1954.5</td>\n      <td>4266.484</td>\n      <td>3884.832</td>\n      <td>8151.316</td>\n      <td>12.486</td>\n    </tr>\n    <tr>\n      <th>...</th>\n      <td>...</td>\n      <td>...</td>\n      <td>...</td>\n      <td>...</td>\n      <td>...</td>\n      <td>...</td>\n      <td>...</td>\n      <td>...</td>\n      <td>...</td>\n      <td>...</td>\n    </tr>\n    <tr>\n      <th>280927</th>\n      <td>716</td>\n      <td>Zimbabwe</td>\n      <td>207</td>\n      <td>Lower 95 PI</td>\n      <td>2080</td>\n      <td>2080.5</td>\n      <td>10576.533</td>\n      <td>11255.983</td>\n      <td>21836.893</td>\n      <td>56.448</td>\n    </tr>\n    <tr>\n      <th>280928</th>\n      <td>716</td>\n      <td>Zimbabwe</td>\n      <td>207</td>\n      <td>Lower 95 PI</td>\n      <td>2085</td>\n      <td>2085.5</td>\n      <td>10293.349</td>\n      <td>11050.875</td>\n      <td>21355.988</td>\n      <td>55.205</td>\n    </tr>\n    <tr>\n      <th>280929</th>\n      <td>716</td>\n      <td>Zimbabwe</td>\n      <td>207</td>\n      <td>Lower 95 PI</td>\n      <td>2090</td>\n      <td>2090.5</td>\n      <td>9920.336</td>\n      <td>10767.709</td>\n      <td>20689.956</td>\n      <td>53.483</td>\n    </tr>\n    <tr>\n      <th>280930</th>\n      <td>716</td>\n      <td>Zimbabwe</td>\n      <td>207</td>\n      <td>Lower 95 PI</td>\n      <td>2095</td>\n      <td>2095.5</td>\n      <td>9503.711</td>\n      <td>10412.184</td>\n      <td>19892.080</td>\n      <td>51.421</td>\n    </tr>\n    <tr>\n      <th>280931</th>\n      <td>716</td>\n      <td>Zimbabwe</td>\n      <td>207</td>\n      <td>Lower 95 PI</td>\n      <td>2100</td>\n      <td>2100.5</td>\n      <td>9090.075</td>\n      <td>9996.105</td>\n      <td>19061.177</td>\n      <td>49.273</td>\n    </tr>\n  </tbody>\n</table>\n<p>280932 rows × 10 columns</p>\n</div>"
     },
     "metadata": {},
     "execution_count": 46
    }
   ],
   "source": [
    "data = pd.read_csv('populationAllData.csv')\n",
    "df = pd.DataFrame(data)\n",
    "#df = df[0:234] #remove the last row which is the total world\n",
    "df"
   ]
  },
  {
   "cell_type": "code",
   "execution_count": 54,
   "metadata": {},
   "outputs": [
    {
     "output_type": "execute_result",
     "data": {
      "text/plain": "    index  LocID Location  Time    PopTotal\n0   47900    156    China  2026  1460092251\n1   47901    156    China  2027  1461797638\n2  115952    356    India  2026  1457308849\n3  115953    356    India  2027  1469338564",
      "text/html": "<div>\n<style scoped>\n    .dataframe tbody tr th:only-of-type {\n        vertical-align: middle;\n    }\n\n    .dataframe tbody tr th {\n        vertical-align: top;\n    }\n\n    .dataframe thead th {\n        text-align: right;\n    }\n</style>\n<table border=\"1\" class=\"dataframe\">\n  <thead>\n    <tr style=\"text-align: right;\">\n      <th></th>\n      <th>index</th>\n      <th>LocID</th>\n      <th>Location</th>\n      <th>Time</th>\n      <th>PopTotal</th>\n    </tr>\n  </thead>\n  <tbody>\n    <tr>\n      <th>0</th>\n      <td>47900</td>\n      <td>156</td>\n      <td>China</td>\n      <td>2026</td>\n      <td>1460092251</td>\n    </tr>\n    <tr>\n      <th>1</th>\n      <td>47901</td>\n      <td>156</td>\n      <td>China</td>\n      <td>2027</td>\n      <td>1461797638</td>\n    </tr>\n    <tr>\n      <th>2</th>\n      <td>115952</td>\n      <td>356</td>\n      <td>India</td>\n      <td>2026</td>\n      <td>1457308849</td>\n    </tr>\n    <tr>\n      <th>3</th>\n      <td>115953</td>\n      <td>356</td>\n      <td>India</td>\n      <td>2027</td>\n      <td>1469338564</td>\n    </tr>\n  </tbody>\n</table>\n</div>"
     },
     "metadata": {},
     "execution_count": 54
    }
   ],
   "source": [
    "VariantMedium = df[\"Variant\"]== 'Medium'\n",
    "China = df[\"Location\"] == 'China'\n",
    "India = df[\"Location\"] == 'India'\n",
    "timeWindow = df[\"Time\"] >= 2026 \n",
    "timeWindow2 = df[\"Time\"] <= 2027 \n",
    "data4 = pd.DataFrame(df[['LocID','Location','Time','PopTotal']][VariantMedium & timeWindow & timeWindow2 & (China | India)]).sort_values(by = 'LocID').reset_index()\n",
    "data4['PopTotal'] = data4['PopTotal'] * 1000 \n",
    "data4['PopTotal'] = data4['PopTotal'].astype(int)\n",
    "data4"
   ]
  },
  {
   "cell_type": "code",
   "execution_count": 33,
   "metadata": {},
   "outputs": [
    {
     "output_type": "execute_result",
     "data": {
      "text/plain": "    index  LocID Location    PopTotal    PopMale  PopFemale\n0   47893    156    China  1433783691  735624259  698159433\n1  115945    356    India  1366417756  710129572  656288184",
      "text/html": "<div>\n<style scoped>\n    .dataframe tbody tr th:only-of-type {\n        vertical-align: middle;\n    }\n\n    .dataframe tbody tr th {\n        vertical-align: top;\n    }\n\n    .dataframe thead th {\n        text-align: right;\n    }\n</style>\n<table border=\"1\" class=\"dataframe\">\n  <thead>\n    <tr style=\"text-align: right;\">\n      <th></th>\n      <th>index</th>\n      <th>LocID</th>\n      <th>Location</th>\n      <th>PopTotal</th>\n      <th>PopMale</th>\n      <th>PopFemale</th>\n    </tr>\n  </thead>\n  <tbody>\n    <tr>\n      <th>0</th>\n      <td>47893</td>\n      <td>156</td>\n      <td>China</td>\n      <td>1433783691</td>\n      <td>735624259</td>\n      <td>698159433</td>\n    </tr>\n    <tr>\n      <th>1</th>\n      <td>115945</td>\n      <td>356</td>\n      <td>India</td>\n      <td>1366417756</td>\n      <td>710129572</td>\n      <td>656288184</td>\n    </tr>\n  </tbody>\n</table>\n</div>"
     },
     "metadata": {},
     "execution_count": 33
    }
   ],
   "source": [
    "year2019= df[\"Time\"]== 2019\n",
    "year2020= df[\"Time\"]== 2020\n",
    "VariantMedium = df[\"Variant\"]== 'Medium'\n",
    "China = df[\"Location\"] == 'China'\n",
    "India = df[\"Location\"] == 'India'\n",
    "data2019 = pd.DataFrame(df[['LocID','Location','PopTotal','PopMale','PopFemale']][VariantMedium & year2019        & (China | India)]).sort_values(by = 'LocID').reset_index()\n",
    "data2019['PopTotal'] = data2019['PopTotal'] * 1000 \n",
    "data2019['PopTotal'] = data2019['PopTotal'].astype(int)\n",
    "data2019['PopMale'] = data2019['PopMale'] * 1000 \n",
    "data2019['PopMale'] = data2019['PopMale'].astype(int)\n",
    "data2019['PopFemale'] = data2019['PopFemale'] * 1000 \n",
    "data2019['PopFemale'] = data2019['PopFemale'].astype(int)\n",
    "data2019"
   ]
  },
  {
   "cell_type": "code",
   "execution_count": 34,
   "metadata": {},
   "outputs": [
    {
     "output_type": "execute_result",
     "data": {
      "text/plain": "    index  LocID Location    PopTotal    PopMale  PopFemale\n0   47894    156    China  1439323774  738247340  701076434\n1  115946    356    India  1380004385  717100970  662903415",
      "text/html": "<div>\n<style scoped>\n    .dataframe tbody tr th:only-of-type {\n        vertical-align: middle;\n    }\n\n    .dataframe tbody tr th {\n        vertical-align: top;\n    }\n\n    .dataframe thead th {\n        text-align: right;\n    }\n</style>\n<table border=\"1\" class=\"dataframe\">\n  <thead>\n    <tr style=\"text-align: right;\">\n      <th></th>\n      <th>index</th>\n      <th>LocID</th>\n      <th>Location</th>\n      <th>PopTotal</th>\n      <th>PopMale</th>\n      <th>PopFemale</th>\n    </tr>\n  </thead>\n  <tbody>\n    <tr>\n      <th>0</th>\n      <td>47894</td>\n      <td>156</td>\n      <td>China</td>\n      <td>1439323774</td>\n      <td>738247340</td>\n      <td>701076434</td>\n    </tr>\n    <tr>\n      <th>1</th>\n      <td>115946</td>\n      <td>356</td>\n      <td>India</td>\n      <td>1380004385</td>\n      <td>717100970</td>\n      <td>662903415</td>\n    </tr>\n  </tbody>\n</table>\n</div>"
     },
     "metadata": {},
     "execution_count": 34
    }
   ],
   "source": [
    "data2020 = pd.DataFrame(df[['LocID','Location','PopTotal','PopMale','PopFemale']][VariantMedium & year2020        & (China | India)]).sort_values(by = 'LocID').reset_index()\n",
    "data2020['PopTotal'] = data2020['PopTotal'] * 1000 \n",
    "data2020['PopTotal'] = data2020['PopTotal'].astype(int)\n",
    "data2020['PopMale'] = data2020['PopMale'] * 1000 \n",
    "data2020['PopMale'] = data2020['PopMale'].astype(int)\n",
    "data2020['PopFemale'] = data2020['PopFemale'] * 1000 \n",
    "data2020['PopFemale'] = data2020['PopFemale'].astype(int)\n",
    "data2020"
   ]
  },
  {
   "cell_type": "code",
   "execution_count": 35,
   "metadata": {},
   "outputs": [
    {
     "output_type": "execute_result",
     "data": {
      "text/plain": "   index_x  LocID_x Location  PopTotal_x  PopMale_x  PopFemale_x  index_y  \\\n0    47893      156    China  1433783691  735624259    698159433    47894   \n1   115945      356    India  1366417756  710129572    656288184   115946   \n\n   LocID_y  PopTotal_y  PopMale_y  PopFemale_y  \n0      156  1439323774  738247340    701076434  \n1      356  1380004385  717100970    662903415  ",
      "text/html": "<div>\n<style scoped>\n    .dataframe tbody tr th:only-of-type {\n        vertical-align: middle;\n    }\n\n    .dataframe tbody tr th {\n        vertical-align: top;\n    }\n\n    .dataframe thead th {\n        text-align: right;\n    }\n</style>\n<table border=\"1\" class=\"dataframe\">\n  <thead>\n    <tr style=\"text-align: right;\">\n      <th></th>\n      <th>index_x</th>\n      <th>LocID_x</th>\n      <th>Location</th>\n      <th>PopTotal_x</th>\n      <th>PopMale_x</th>\n      <th>PopFemale_x</th>\n      <th>index_y</th>\n      <th>LocID_y</th>\n      <th>PopTotal_y</th>\n      <th>PopMale_y</th>\n      <th>PopFemale_y</th>\n    </tr>\n  </thead>\n  <tbody>\n    <tr>\n      <th>0</th>\n      <td>47893</td>\n      <td>156</td>\n      <td>China</td>\n      <td>1433783691</td>\n      <td>735624259</td>\n      <td>698159433</td>\n      <td>47894</td>\n      <td>156</td>\n      <td>1439323774</td>\n      <td>738247340</td>\n      <td>701076434</td>\n    </tr>\n    <tr>\n      <th>1</th>\n      <td>115945</td>\n      <td>356</td>\n      <td>India</td>\n      <td>1366417756</td>\n      <td>710129572</td>\n      <td>656288184</td>\n      <td>115946</td>\n      <td>356</td>\n      <td>1380004385</td>\n      <td>717100970</td>\n      <td>662903415</td>\n    </tr>\n  </tbody>\n</table>\n</div>"
     },
     "metadata": {},
     "execution_count": 35
    }
   ],
   "source": [
    "dataMerged = data2019.merge(data2020, left_on='Location', right_on='Location')\n",
    "dataMerged"
   ]
  },
  {
   "cell_type": "code",
   "execution_count": 39,
   "metadata": {},
   "outputs": [
    {
     "output_type": "execute_result",
     "data": {
      "text/plain": "  Location     pop2019   Male2019  Female2019     pop2020   Male2020  \\\n0    China  1433783691  735624259   698159433  1439323774  738247340   \n1    India  1366417756  710129572   656288184  1380004385  717100970   \n\n   Female2020  \n0   701076434  \n1   662903415  ",
      "text/html": "<div>\n<style scoped>\n    .dataframe tbody tr th:only-of-type {\n        vertical-align: middle;\n    }\n\n    .dataframe tbody tr th {\n        vertical-align: top;\n    }\n\n    .dataframe thead th {\n        text-align: right;\n    }\n</style>\n<table border=\"1\" class=\"dataframe\">\n  <thead>\n    <tr style=\"text-align: right;\">\n      <th></th>\n      <th>Location</th>\n      <th>pop2019</th>\n      <th>Male2019</th>\n      <th>Female2019</th>\n      <th>pop2020</th>\n      <th>Male2020</th>\n      <th>Female2020</th>\n    </tr>\n  </thead>\n  <tbody>\n    <tr>\n      <th>0</th>\n      <td>China</td>\n      <td>1433783691</td>\n      <td>735624259</td>\n      <td>698159433</td>\n      <td>1439323774</td>\n      <td>738247340</td>\n      <td>701076434</td>\n    </tr>\n    <tr>\n      <th>1</th>\n      <td>India</td>\n      <td>1366417756</td>\n      <td>710129572</td>\n      <td>656288184</td>\n      <td>1380004385</td>\n      <td>717100970</td>\n      <td>662903415</td>\n    </tr>\n  </tbody>\n</table>\n</div>"
     },
     "metadata": {},
     "execution_count": 39
    }
   ],
   "source": [
    "dataMerged2 = dataMerged.drop(['index_x', 'LocID_x','index_y', 'LocID_y'], axis=1).rename(columns={\"PopTotal_x\": \"pop2019\", \"PopTotal_y\": \"pop2020\", \"PopMale_x\": \"Male2019\", \"PopMale_y\": \"Male2020\", \"PopFemale_x\": \"Female2019\", \"PopFemale_y\": \"Female2020\"})\n",
    "dataMerged2"
   ]
  },
  {
   "cell_type": "code",
   "execution_count": 40,
   "metadata": {},
   "outputs": [],
   "source": [
    "dataMerged2.to_csv(r'C:\\Users\\sshah\\Desktop\\World-Population\\static\\ChinaIndia2019-2020.csv', index = False)"
   ]
  },
  {
   "cell_type": "code",
   "execution_count": null,
   "metadata": {},
   "outputs": [],
   "source": []
  }
 ],
 "metadata": {
  "language_info": {
   "name": "python",
   "codemirror_mode": {
    "name": "ipython",
    "version": 3
   },
   "version": "3.7.7-final"
  },
  "orig_nbformat": 2,
  "file_extension": ".py",
  "mimetype": "text/x-python",
  "name": "python",
  "npconvert_exporter": "python",
  "pygments_lexer": "ipython3",
  "version": 3,
  "kernelspec": {
   "name": "python37764bit06c0b26dbc8d4c45a5d5450d00282a40",
   "display_name": "Python 3.7.7 64-bit"
  }
 },
 "nbformat": 4,
 "nbformat_minor": 2
}
{
 "cells": [
  {
   "cell_type": "code",
   "execution_count": 2,
   "metadata": {},
   "outputs": [],
   "source": [
    "import pandas as pd\n",
    "import numpy as np\n",
    "from sklearn.linear_model import LinearRegression"
   ]
  },
  {
   "cell_type": "code",
   "execution_count": 3,
   "metadata": {},
   "outputs": [
    {
     "output_type": "execute_result",
     "data": {
      "text/plain": "                       cause  year           val\n0   Nutritional deficiencies  2008  3.457034e+05\n1  Non-communicable diseases  2008  3.418150e+07\n2                  Neoplasms  2008  7.790648e+06\n3  Musculoskeletal disorders  2008  9.544369e+04\n4                 All causes  2008  5.190356e+07",
      "text/html": "<div>\n<style scoped>\n    .dataframe tbody tr th:only-of-type {\n        vertical-align: middle;\n    }\n\n    .dataframe tbody tr th {\n        vertical-align: top;\n    }\n\n    .dataframe thead th {\n        text-align: right;\n    }\n</style>\n<table border=\"1\" class=\"dataframe\">\n  <thead>\n    <tr style=\"text-align: right;\">\n      <th></th>\n      <th>cause</th>\n      <th>year</th>\n      <th>val</th>\n    </tr>\n  </thead>\n  <tbody>\n    <tr>\n      <th>0</th>\n      <td>Nutritional deficiencies</td>\n      <td>2008</td>\n      <td>3.457034e+05</td>\n    </tr>\n    <tr>\n      <th>1</th>\n      <td>Non-communicable diseases</td>\n      <td>2008</td>\n      <td>3.418150e+07</td>\n    </tr>\n    <tr>\n      <th>2</th>\n      <td>Neoplasms</td>\n      <td>2008</td>\n      <td>7.790648e+06</td>\n    </tr>\n    <tr>\n      <th>3</th>\n      <td>Musculoskeletal disorders</td>\n      <td>2008</td>\n      <td>9.544369e+04</td>\n    </tr>\n    <tr>\n      <th>4</th>\n      <td>All causes</td>\n      <td>2008</td>\n      <td>5.190356e+07</td>\n    </tr>\n  </tbody>\n</table>\n</div>"
     },
     "metadata": {},
     "execution_count": 3
    }
   ],
   "source": [
    "data = pd.read_csv('total_simple_data.csv')\n",
    "df = pd.DataFrame(data)\n",
    "df.head()"
   ]
  },
  {
   "cell_type": "code",
   "execution_count": 9,
   "metadata": {},
   "outputs": [
    {
     "output_type": "execute_result",
     "data": {
      "text/plain": "year                                                        2007  \\\ncause                                                              \nAll causes                                          5.120702e+07   \nCardiovascular diseases                             1.468767e+07   \nCommunicable, maternal, neonatal, and nutrition...  1.335968e+07   \nConflict and terrorism                              5.949688e+04   \nDigestive diseases                                  2.061954e+06   \n\nyear                                                        2008  \\\ncause                                                              \nAll causes                                          5.190356e+07   \nCardiovascular diseases                             1.500828e+07   \nCommunicable, maternal, neonatal, and nutrition...  1.308734e+07   \nConflict and terrorism                              5.879508e+04   \nDigestive diseases                                  2.089798e+06   \n\nyear                                                        2009  \\\ncause                                                              \nAll causes                                          5.207209e+07   \nCardiovascular diseases                             1.527431e+07   \nCommunicable, maternal, neonatal, and nutrition...  1.281121e+07   \nConflict and terrorism                              6.791631e+04   \nDigestive diseases                                  2.111720e+06   \n\nyear                                                        2010  \\\ncause                                                              \nAll causes                                          5.283831e+07   \nCardiovascular diseases                             1.561962e+07   \nCommunicable, maternal, neonatal, and nutrition...  1.252802e+07   \nConflict and terrorism                              5.060827e+04   \nDigestive diseases                                  2.135810e+06   \n\nyear                                                        2011  \\\ncause                                                              \nAll causes                                          5.289400e+07   \nCardiovascular diseases                             1.585974e+07   \nCommunicable, maternal, neonatal, and nutrition...  1.219007e+07   \nConflict and terrorism                              1.005686e+05   \nDigestive diseases                                  2.158948e+06   \n\nyear                                                        2012  \\\ncause                                                              \nAll causes                                          5.310245e+07   \nCardiovascular diseases                             1.611549e+07   \nCommunicable, maternal, neonatal, and nutrition...  1.180971e+07   \nConflict and terrorism                              1.114329e+05   \nDigestive diseases                                  2.181850e+06   \n\nyear                                                        2013  \\\ncause                                                              \nAll causes                                          5.327386e+07   \nCardiovascular diseases                             1.628402e+07   \nCommunicable, maternal, neonatal, and nutrition...  1.146154e+07   \nConflict and terrorism                              1.151383e+05   \nDigestive diseases                                  2.205206e+06   \n\nyear                                                        2014  \\\ncause                                                              \nAll causes                                          5.393612e+07   \nCardiovascular diseases                             1.662836e+07   \nCommunicable, maternal, neonatal, and nutrition...  1.117078e+07   \nConflict and terrorism                              1.822399e+05   \nDigestive diseases                                  2.242741e+06   \n\nyear                                                        2015  \\\ncause                                                              \nAll causes                                          5.482219e+07   \nCardiovascular diseases                             1.713999e+07   \nCommunicable, maternal, neonatal, and nutrition...  1.088245e+07   \nConflict and terrorism                              1.376293e+05   \nDigestive diseases                                  2.288953e+06   \n\nyear                                                        2016          2017  \ncause                                                                           \nAll causes                                          5.550955e+07  5.594573e+07  \nCardiovascular diseases                             1.752437e+07  1.779095e+07  \nCommunicable, maternal, neonatal, and nutrition...  1.060071e+07  1.038987e+07  \nConflict and terrorism                              1.583564e+05  1.297201e+05  \nDigestive diseases                                  2.335480e+06  2.377685e+06  ",
      "text/html": "<div>\n<style scoped>\n    .dataframe tbody tr th:only-of-type {\n        vertical-align: middle;\n    }\n\n    .dataframe tbody tr th {\n        vertical-align: top;\n    }\n\n    .dataframe thead th {\n        text-align: right;\n    }\n</style>\n<table border=\"1\" class=\"dataframe\">\n  <thead>\n    <tr style=\"text-align: right;\">\n      <th>year</th>\n      <th>2007</th>\n      <th>2008</th>\n      <th>2009</th>\n      <th>2010</th>\n      <th>2011</th>\n      <th>2012</th>\n      <th>2013</th>\n      <th>2014</th>\n      <th>2015</th>\n      <th>2016</th>\n      <th>2017</th>\n    </tr>\n    <tr>\n      <th>cause</th>\n      <th></th>\n      <th></th>\n      <th></th>\n      <th></th>\n      <th></th>\n      <th></th>\n      <th></th>\n      <th></th>\n      <th></th>\n      <th></th>\n      <th></th>\n    </tr>\n  </thead>\n  <tbody>\n    <tr>\n      <th>All causes</th>\n      <td>5.120702e+07</td>\n      <td>5.190356e+07</td>\n      <td>5.207209e+07</td>\n      <td>5.283831e+07</td>\n      <td>5.289400e+07</td>\n      <td>5.310245e+07</td>\n      <td>5.327386e+07</td>\n      <td>5.393612e+07</td>\n      <td>5.482219e+07</td>\n      <td>5.550955e+07</td>\n      <td>5.594573e+07</td>\n    </tr>\n    <tr>\n      <th>Cardiovascular diseases</th>\n      <td>1.468767e+07</td>\n      <td>1.500828e+07</td>\n      <td>1.527431e+07</td>\n      <td>1.561962e+07</td>\n      <td>1.585974e+07</td>\n      <td>1.611549e+07</td>\n      <td>1.628402e+07</td>\n      <td>1.662836e+07</td>\n      <td>1.713999e+07</td>\n      <td>1.752437e+07</td>\n      <td>1.779095e+07</td>\n    </tr>\n    <tr>\n      <th>Communicable, maternal, neonatal, and nutritional diseases</th>\n      <td>1.335968e+07</td>\n      <td>1.308734e+07</td>\n      <td>1.281121e+07</td>\n      <td>1.252802e+07</td>\n      <td>1.219007e+07</td>\n      <td>1.180971e+07</td>\n      <td>1.146154e+07</td>\n      <td>1.117078e+07</td>\n      <td>1.088245e+07</td>\n      <td>1.060071e+07</td>\n      <td>1.038987e+07</td>\n    </tr>\n    <tr>\n      <th>Conflict and terrorism</th>\n      <td>5.949688e+04</td>\n      <td>5.879508e+04</td>\n      <td>6.791631e+04</td>\n      <td>5.060827e+04</td>\n      <td>1.005686e+05</td>\n      <td>1.114329e+05</td>\n      <td>1.151383e+05</td>\n      <td>1.822399e+05</td>\n      <td>1.376293e+05</td>\n      <td>1.583564e+05</td>\n      <td>1.297201e+05</td>\n    </tr>\n    <tr>\n      <th>Digestive diseases</th>\n      <td>2.061954e+06</td>\n      <td>2.089798e+06</td>\n      <td>2.111720e+06</td>\n      <td>2.135810e+06</td>\n      <td>2.158948e+06</td>\n      <td>2.181850e+06</td>\n      <td>2.205206e+06</td>\n      <td>2.242741e+06</td>\n      <td>2.288953e+06</td>\n      <td>2.335480e+06</td>\n      <td>2.377685e+06</td>\n    </tr>\n  </tbody>\n</table>\n</div>"
     },
     "metadata": {},
     "execution_count": 9
    }
   ],
   "source": [
    "df_pivot = df.pivot(index ='cause', columns ='year', values='val')\n",
    "df_pivot.head()"
   ]
  },
  {
   "cell_type": "code",
   "execution_count": 5,
   "metadata": {},
   "outputs": [
    {
     "output_type": "error",
     "ename": "SyntaxError",
     "evalue": "invalid syntax (<ipython-input-5-520dc40de336>, line 22)",
     "traceback": [
      "\u001b[1;36m  File \u001b[1;32m\"<ipython-input-5-520dc40de336>\"\u001b[1;36m, line \u001b[1;32m22\u001b[0m\n\u001b[1;33m    df_pivot = df_pivot.sort_values(by = '2020' asc= False)\u001b[0m\n\u001b[1;37m                                                  ^\u001b[0m\n\u001b[1;31mSyntaxError\u001b[0m\u001b[1;31m:\u001b[0m invalid syntax\n"
     ]
    }
   ],
   "source": [
    "df_pivot = df.pivot(index ='cause', columns ='year', values='val')\n",
    "y_future = [] #np.empty((0,0))\n",
    "future_years = [[2018],[2019],[2020],[2021]]\n",
    "linear_regressor = LinearRegression()\n",
    "\n",
    "for i in range(df_pivot.shape[0]):\n",
    "    Y = df_pivot.iloc[i, :].values.reshape(-1, 1)\n",
    "    X = df_pivot.columns.values.reshape(-1, 1)    \n",
    "    linear_regressor.fit(X, Y)\n",
    "    y_future.append(linear_regressor.predict(future_years))\n",
    "\n",
    "y_future = np.array(y_future).reshape(df_pivot.shape[0], len(future_years))\n",
    "\n",
    "for i in range(len(future_years)):\n",
    "    df_pivot[str(future_years[i][0])] = y_future[:, i]\n",
    "\n",
    "# import matplotlib.pyplot as plt\n",
    "# plt.scatter(X, Y)\n",
    "# plt.plot(X, Y_pred, color='red')\n",
    "# plt.show()\n",
    "df_pivot = df_pivot.round(0).astype(int)\n",
    "df_pivot = df_pivot.sort_values(by = '2020' ascending= False)\n",
    "df_pivot"
   ]
  },
  {
   "cell_type": "code",
   "execution_count": 95,
   "metadata": {},
   "outputs": [],
   "source": [
    "df_pivot.to_csv(r'C:\\Users\\sshah\\Desktop\\World-Population\\static\\death.csv', index = True)"
   ]
  },
  {
   "cell_type": "code",
   "execution_count": null,
   "metadata": {},
   "outputs": [],
   "source": []
  }
 ],
 "metadata": {
  "language_info": {
   "codemirror_mode": {
    "name": "ipython",
    "version": 3
   },
   "file_extension": ".py",
   "mimetype": "text/x-python",
   "name": "python",
   "nbconvert_exporter": "python",
   "pygments_lexer": "ipython3",
   "version": "3.7.7-final"
  },
  "orig_nbformat": 2,
  "kernelspec": {
   "name": "python37764bit06c0b26dbc8d4c45a5d5450d00282a40",
   "display_name": "Python 3.7.7 64-bit"
  }
 },
 "nbformat": 4,
 "nbformat_minor": 2
}